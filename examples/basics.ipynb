{
 "cells": [
  {
   "cell_type": "code",
   "execution_count": 11,
   "metadata": {},
   "outputs": [],
   "source": [
    "from dewloosh.core import Library"
   ]
  },
  {
   "cell_type": "code",
   "execution_count": 12,
   "metadata": {},
   "outputs": [],
   "source": [
    "h = Library()\n",
    "h['a', 'b', 'c', 'e'] = 1\n",
    "h['a']['b']['d'] = 2\n",
    "b = h['a', 'b']\n",
    "b['e'] = 3\n",
    "b['f'] = 1, 2, 3"
   ]
  },
  {
   "cell_type": "code",
   "execution_count": 13,
   "metadata": {},
   "outputs": [
    {
     "data": {
      "text/plain": [
       "2"
      ]
     },
     "execution_count": 13,
     "metadata": {},
     "output_type": "execute_result"
    }
   ],
   "source": [
    "h['a', 'b', 'd']"
   ]
  },
  {
   "cell_type": "code",
   "execution_count": 14,
   "metadata": {},
   "outputs": [
    {
     "data": {
      "text/plain": [
       "{'a': {'b': {'c': {'e': 1}, 'd': 2, 'e': 3, 'f': (1, 2, 3)}}}"
      ]
     },
     "execution_count": 14,
     "metadata": {},
     "output_type": "execute_result"
    }
   ],
   "source": [
    "h"
   ]
  },
  {
   "cell_type": "code",
   "execution_count": 15,
   "metadata": {},
   "outputs": [
    {
     "name": "stdout",
     "output_type": "stream",
     "text": [
      "{'b': {'c': {'e': 1}, 'd': 2, 'e': 3, 'f': (1, 2, 3)}}\n"
     ]
    }
   ],
   "source": [
    "for item in h.values():\n",
    "    print(item)"
   ]
  },
  {
   "cell_type": "code",
   "execution_count": 16,
   "metadata": {},
   "outputs": [
    {
     "name": "stdout",
     "output_type": "stream",
     "text": [
      "1\n",
      "2\n",
      "3\n",
      "(1, 2, 3)\n"
     ]
    }
   ],
   "source": [
    "for item in h.values(deep=True):\n",
    "    print(item)"
   ]
  }
 ],
 "metadata": {
  "interpreter": {
   "hash": "8d15e2cb4dca8274af5fb092bbadab583a099b53b169f927cb892edc8b735b32"
  },
  "kernelspec": {
   "display_name": "Python 3.8.10 64-bit ('.dewloosh': venv)",
   "language": "python",
   "name": "python3"
  },
  "language_info": {
   "codemirror_mode": {
    "name": "ipython",
    "version": 3
   },
   "file_extension": ".py",
   "mimetype": "text/x-python",
   "name": "python",
   "nbconvert_exporter": "python",
   "pygments_lexer": "ipython3",
   "version": "3.8.10"
  },
  "orig_nbformat": 4
 },
 "nbformat": 4,
 "nbformat_minor": 2
}
